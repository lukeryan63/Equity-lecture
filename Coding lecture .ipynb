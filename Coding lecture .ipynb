{
 "cells": [
  {
   "cell_type": "markdown",
   "metadata": {},
   "source": [
    "import subprocess\n",
    "import sys\n",
    "\n",
    "required_packages = [\n",
    "    \"matplotlib\",\n",
    "    \"matplotlib-inline\",\n",
    "    \"numpy\",\n",
    "    \"pandas\",\n",
    "    \"requests\",\n",
    "    \"yfinance\",\n",
    "    \"ipywidgets\",\n",
    "    \"fpdf\",\n",
    "    \"lxml\"\n",
    "]\n",
    "\n",
    "for package in required_packages:\n",
    "    subprocess.check_call([sys.executable, \"-m\", \"pip\", \"install\", package])\n"
   ]
  },
  {
   "cell_type": "code",
   "execution_count": 7,
   "metadata": {},
   "outputs": [
    {
     "data": {
      "text/plain": [
       "''"
      ]
     },
     "execution_count": 7,
     "metadata": {},
     "output_type": "execute_result"
    }
   ],
   "source": [
    "from fpdf import FPDF\n",
    "\n",
    "#create a PDF object\n",
    "pdf = FPDF(orientation='P', unit='mm', format='A4')\n",
    "\n",
    "#add a page\n",
    "pdf.add_page()\n",
    "\n",
    "# set font\n",
    "pdf.set_font(\"Arial\", size=16)\n",
    "\n",
    "#add a text\n",
    "pdf.cell(40, 10, txt=\"Hello World\")\n",
    "\n",
    "#save the pdf with name hello_world.pdf\n",
    "pdf.output(\"hello_world.pdf\")"
   ]
  },
  {
   "cell_type": "code",
   "execution_count": 8,
   "metadata": {},
   "outputs": [
    {
     "name": "stdout",
     "output_type": "stream",
     "text": [
      "Initial position - X: 10.001249999999999, Y: 10.001249999999999\n",
      "After first cell - X: 50.00125, Y: 10.001249999999999\n",
      "After second cell - X: 10.001249999999999, Y: 20.00125\n"
     ]
    },
    {
     "data": {
      "text/plain": [
       "''"
      ]
     },
     "execution_count": 8,
     "metadata": {},
     "output_type": "execute_result"
    }
   ],
   "source": [
    "# Demonstrate cursor movement\n",
    "pdf = FPDF()\n",
    "pdf.add_page()\n",
    "pdf.set_font('Arial', '', 12)\n",
    "\n",
    "# Print initial cursor position\n",
    "print(f\"Initial position - X: {pdf.get_x()}, Y: {pdf.get_y()}\")\n",
    "\n",
    "# Add content and track position changes\n",
    "pdf.cell(40, 10, 'First cell')\n",
    "print(f\"After first cell - X: {pdf.get_x()}, Y: {pdf.get_y()}\")\n",
    "\n",
    "# Add cell that moves to next line (ln=1)\n",
    "pdf.cell(60, 10, 'Second cell', 0, 1)\n",
    "print(f\"After second cell - X: {pdf.get_x()}, Y: {pdf.get_y()}\")\n",
    "\n",
    "pdf.output('cursor_movement.pdf')"
   ]
  },
  {
   "cell_type": "code",
   "execution_count": 9,
   "metadata": {},
   "outputs": [
    {
     "data": {
      "text/plain": [
       "''"
      ]
     },
     "execution_count": 9,
     "metadata": {},
     "output_type": "execute_result"
    }
   ],
   "source": [
    "from fpdf import FPDF\n",
    "import os\n",
    "\n",
    "pdf = FPDF()\n",
    "pdf.add_page()\n",
    "pdf.set_font('Arial', 'B', 16)\n",
    "pdf.cell(0, 10, 'Images Demo', 0, 1, 'C')\n",
    "pdf.ln(10)\n",
    "\n",
    "# Add an image (replace 'example.jpg' with an actual image file path)\n",
    "sample_image = 'stock_market.jpg'\n",
    "if os.path.exists(sample_image):\n",
    "    pdf.image(sample_image, x=10, y=30, w=100)\n",
    "    pdf.ln(110)  # Leave space after the image\n",
    "    pdf.cell(0, 10, 'Image added successfully', 0, 1)\n",
    "else:\n",
    "    pdf.cell(0, 10, 'Image example (image file not found)', 0, 1)\n",
    "    pdf.cell(0, 10, 'Replace \"example.jpg\" with your image path', 0, 1)\n",
    "\n",
    "# Image parameters\n",
    "pdf.set_font('Arial', '', 12)\n",
    "pdf.cell(0, 10, 'Image parameters:', 0, 1)\n",
    "pdf.cell(0, 10, '- x, y: Position coordinates', 0, 1)\n",
    "pdf.cell(0, 10, '- w, h: Width and height (omit one to maintain aspect ratio)', 0, 1)\n",
    "\n",
    "pdf.output('images.pdf')"
   ]
  },
  {
   "cell_type": "code",
   "execution_count": 10,
   "metadata": {},
   "outputs": [
    {
     "data": {
      "text/plain": [
       "''"
      ]
     },
     "execution_count": 10,
     "metadata": {},
     "output_type": "execute_result"
    }
   ],
   "source": [
    "from fpdf import FPDF\n",
    "import datetime\n",
    "\n",
    "pdf = FPDF()\n",
    "pdf.add_page()\n",
    "\n",
    "# Title\n",
    "pdf.set_font('Arial', 'B', 16)\n",
    "pdf.cell(0, 10, 'Monthly Sales Report', 0, 1, 'C')\n",
    "pdf.ln(5)\n",
    "\n",
    "# Date\n",
    "pdf.set_font('Arial', 'I', 10)\n",
    "date = datetime.datetime.now().strftime(\"%Y-%m-%d\")\n",
    "pdf.cell(0, 10, f'Generated on: {date}', 0, 1, 'R')\n",
    "\n",
    "# Introduction\n",
    "pdf.set_font('Arial', '', 12)\n",
    "pdf.multi_cell(0, 10, 'This report summarizes the sales performance for the current month. It includes product-wise sales data and overall performance metrics.')\n",
    "pdf.ln(5)\n",
    "\n",
    "# Sales Table\n",
    "pdf.set_font('Arial', 'B', 12)\n",
    "pdf.cell(0, 10, 'Product Sales', 0, 1, 'L')\n",
    "\n",
    "# Set column widths\n",
    "col_width = pdf.w / 4.5\n",
    "row_height = 10\n",
    "\n",
    "# Table header\n",
    "pdf.set_fill_color(200, 220, 255)\n",
    "pdf.cell(col_width, row_height, 'Product', 1, 0, 'C', 1)\n",
    "pdf.cell(col_width, row_height, 'Units Sold', 1, 0, 'C', 1)\n",
    "pdf.cell(col_width, row_height, 'Unit Price', 1, 0, 'C', 1)\n",
    "pdf.cell(col_width, row_height, 'Revenue', 1, 1, 'C', 1)\n",
    "\n",
    "# Table data\n",
    "pdf.set_font('Arial', '', 12)\n",
    "sales_data = [\n",
    "    ['Product A', '120', '$15.00', '$1,800.00'],\n",
    "    ['Product B', '85', '$25.00', '$2,125.00'],\n",
    "    ['Product C', '210', '$10.00', '$2,100.00'],\n",
    "    ['Product D', '35', '$45.00', '$1,575.00']\n",
    "]\n",
    "\n",
    "for data in sales_data:\n",
    "    pdf.cell(col_width, row_height, data[0], 1, 0, 'L')\n",
    "    pdf.cell(col_width, row_height, data[1], 1, 0, 'C')\n",
    "    pdf.cell(col_width, row_height, data[2], 1, 0, 'R')\n",
    "    pdf.cell(col_width, row_height, data[3], 1, 1, 'R')\n",
    "\n",
    "# Total\n",
    "pdf.set_font('Arial', 'B', 12)\n",
    "pdf.cell(col_width * 3, row_height, 'Total Revenue', 1, 0, 'L')\n",
    "pdf.cell(col_width, row_height, '$7,600.00', 1, 1, 'R')\n",
    "pdf.ln(10)\n",
    "\n",
    "# Summary\n",
    "pdf.set_font('Arial', 'B', 12)\n",
    "pdf.cell(0, 10, 'Performance Summary', 0, 1, 'L')\n",
    "pdf.set_font('Arial', '', 12)\n",
    "pdf.multi_cell(0, 10, 'Overall sales performance increased by 12% compared to the previous month. Product C showed the highest volume of sales, while Product B generated the most revenue per unit.')\n",
    "\n",
    "# Colored text for highlights\n",
    "pdf.ln(5)\n",
    "pdf.set_font('Arial', 'B', 12)\n",
    "pdf.set_text_color(0, 128, 0)  # Green\n",
    "pdf.cell(0, 10, 'Top Performer: Product B', 0, 1, 'L')\n",
    "pdf.set_text_color(255, 0, 0)  # Red\n",
    "pdf.cell(0, 10, 'Needs Attention: Product D', 0, 1, 'L')\n",
    "\n",
    "pdf.output('sales_report.pdf')"
   ]
  }
 ],
 "metadata": {
  "kernelspec": {
   "display_name": "Python 3",
   "language": "python",
   "name": "python3"
  },
  "language_info": {
   "codemirror_mode": {
    "name": "ipython",
    "version": 3
   },
   "file_extension": ".py",
   "mimetype": "text/x-python",
   "name": "python",
   "nbconvert_exporter": "python",
   "pygments_lexer": "ipython3",
   "version": "3.13.2"
  }
 },
 "nbformat": 4,
 "nbformat_minor": 2
}
