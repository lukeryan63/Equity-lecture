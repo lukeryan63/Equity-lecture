{
 "cells": [
  {
   "cell_type": "code",
   "execution_count": 38,
   "metadata": {},
   "outputs": [
    {
     "name": "stdout",
     "output_type": "stream",
     "text": [
      " The P/E ratio is:\n",
      "25.0\n"
     ]
    }
   ],
   "source": [
    "#function to calculate the Price-to-Earnings (P/E) ratio\n",
    "def calculate_pe_ratio(price, earnings):\n",
    "    \"\"\"\n",
    "    Calculate the Price-to-Earnings (P/E) ratio.\n",
    "\n",
    "    Parameters:\n",
    "    price (float): The current market price of the stock.\n",
    "    earnings (float): The earnings per share (EPS) of the stock.\n",
    "\n",
    "    Returns:\n",
    "    float: The P/E ratio, or None if earnings are zero or negative.\n",
    "    \"\"\"\n",
    "    if earnings <= 0:\n",
    "        return None\n",
    "    return price / earnings\n",
    "\n",
    "#call the PE function\n",
    "price = 100\n",
    "earnings = 4\n",
    "pe = calculate_pe_ratio(price, earnings)\n",
    "print(\" The P/E ratio is:\")\n",
    "print(pe)"
   ]
  },
  {
   "cell_type": "code",
   "execution_count": 39,
   "metadata": {},
   "outputs": [
    {
     "name": "stdout",
     "output_type": "stream",
     "text": [
      " The dividend yield is:\n",
      "0.03\n"
     ]
    }
   ],
   "source": [
    "#function to calculate the dividend yield of a stock\n",
    "def calculate_dividend_yield(dividend, price):\n",
    "    \"\"\"\n",
    "    Calculate the dividend yield of a stock.\n",
    "\n",
    "    Parameters:\n",
    "    dividend (float): The annual dividend payment.\n",
    "    price (float): The current market price of the stock.\n",
    "\n",
    "    Returns:\n",
    "    float: The dividend yield, or None if price is zero or negative.\n",
    "    \"\"\"\n",
    "    if price <= 0:\n",
    "        return None\n",
    "    return dividend / price\n",
    "#call the dividend yield function\n",
    "dividend = 3\n",
    "price = 100\n",
    "dividend_yield = calculate_dividend_yield(dividend, price)\n",
    "print(\" The dividend yield is:\")\n",
    "print(dividend_yield)"
   ]
  },
  {
   "cell_type": "code",
   "execution_count": 40,
   "metadata": {},
   "outputs": [
    {
     "name": "stdout",
     "output_type": "stream",
     "text": [
      "Joke: What's the object-oriented way to become wealthy?\n",
      "Answer: Inheritance\n"
     ]
    }
   ],
   "source": [
    "import requests \n",
    "url = \"https://official-joke-api.appspot.com/jokes/programming/random\"\n",
    "response = requests.get(url)\n",
    "\n",
    "joke = response.json()\n",
    "print(f\"Joke: {joke[0]['setup']}\")\n",
    "print(f\"Answer: {joke[0]['punchline']}\")"
   ]
  },
  {
   "cell_type": "code",
   "execution_count": 41,
   "metadata": {},
   "outputs": [
    {
     "name": "stdout",
     "output_type": "stream",
     "text": [
      "Weather information at -33.891228,151.276694\n"
     ]
    },
    {
     "data": {
      "text/html": [
       "<div>\n",
       "<style scoped>\n",
       "    .dataframe tbody tr th:only-of-type {\n",
       "        vertical-align: middle;\n",
       "    }\n",
       "\n",
       "    .dataframe tbody tr th {\n",
       "        vertical-align: top;\n",
       "    }\n",
       "\n",
       "    .dataframe thead th {\n",
       "        text-align: right;\n",
       "    }\n",
       "</style>\n",
       "<table border=\"1\" class=\"dataframe\">\n",
       "  <thead>\n",
       "    <tr style=\"text-align: right;\">\n",
       "      <th></th>\n",
       "      <th>values</th>\n",
       "    </tr>\n",
       "  </thead>\n",
       "  <tbody>\n",
       "    <tr>\n",
       "      <th>time</th>\n",
       "      <td>2025-04-14T05:30</td>\n",
       "    </tr>\n",
       "    <tr>\n",
       "      <th>interval</th>\n",
       "      <td>900</td>\n",
       "    </tr>\n",
       "    <tr>\n",
       "      <th>temperature</th>\n",
       "      <td>23.0</td>\n",
       "    </tr>\n",
       "    <tr>\n",
       "      <th>windspeed</th>\n",
       "      <td>24.6</td>\n",
       "    </tr>\n",
       "    <tr>\n",
       "      <th>winddirection</th>\n",
       "      <td>173</td>\n",
       "    </tr>\n",
       "    <tr>\n",
       "      <th>is_day</th>\n",
       "      <td>1</td>\n",
       "    </tr>\n",
       "    <tr>\n",
       "      <th>weathercode</th>\n",
       "      <td>2</td>\n",
       "    </tr>\n",
       "  </tbody>\n",
       "</table>\n",
       "</div>"
      ],
      "text/plain": [
       "                         values\n",
       "time           2025-04-14T05:30\n",
       "interval                    900\n",
       "temperature                23.0\n",
       "windspeed                  24.6\n",
       "winddirection               173\n",
       "is_day                        1\n",
       "weathercode                   2"
      ]
     },
     "execution_count": 41,
     "metadata": {},
     "output_type": "execute_result"
    }
   ],
   "source": [
    "import pandas as pd\n",
    "\n",
    "#latitude and longitude of the location\n",
    "latitude = -33.891228\n",
    "longitude = 151.276694\n",
    "#API key for the weather service\n",
    "# We construct a URL that is specific to the latitude and longitude the user inputted.\n",
    "url = f'https://api.open-meteo.com/v1/forecast?latitude={latitude}&longitude={longitude}&current_weather=true&hourly=temperature_2m,relativehumidity_2m,windspeed_10m'\n",
    "response = requests.get(url)    # We can then query this URL using a GET request\n",
    "data = response.json()          # Format the response to json\n",
    "\n",
    "current_weather = data['current_weather']\n",
    "print(f'Weather information at {latitude},{longitude}')\n",
    "pd.DataFrame.from_dict(current_weather, orient='index', columns=['values'])\n"
   ]
  },
  {
   "cell_type": "code",
   "execution_count": 42,
   "metadata": {},
   "outputs": [
    {
     "name": "stderr",
     "output_type": "stream",
     "text": [
      "[*********************100%***********************]  1 of 1 completed\n"
     ]
    },
    {
     "data": {
      "text/html": [
       "<div>\n",
       "<style scoped>\n",
       "    .dataframe tbody tr th:only-of-type {\n",
       "        vertical-align: middle;\n",
       "    }\n",
       "\n",
       "    .dataframe tbody tr th {\n",
       "        vertical-align: top;\n",
       "    }\n",
       "\n",
       "    .dataframe thead tr th {\n",
       "        text-align: left;\n",
       "    }\n",
       "\n",
       "    .dataframe thead tr:last-of-type th {\n",
       "        text-align: right;\n",
       "    }\n",
       "</style>\n",
       "<table border=\"1\" class=\"dataframe\">\n",
       "  <thead>\n",
       "    <tr>\n",
       "      <th>Price</th>\n",
       "      <th>Close</th>\n",
       "      <th>High</th>\n",
       "      <th>Low</th>\n",
       "      <th>Open</th>\n",
       "      <th>Volume</th>\n",
       "    </tr>\n",
       "    <tr>\n",
       "      <th>Ticker</th>\n",
       "      <th>MSFT</th>\n",
       "      <th>MSFT</th>\n",
       "      <th>MSFT</th>\n",
       "      <th>MSFT</th>\n",
       "      <th>MSFT</th>\n",
       "    </tr>\n",
       "    <tr>\n",
       "      <th>Date</th>\n",
       "      <th></th>\n",
       "      <th></th>\n",
       "      <th></th>\n",
       "      <th></th>\n",
       "      <th></th>\n",
       "    </tr>\n",
       "  </thead>\n",
       "  <tbody>\n",
       "    <tr>\n",
       "      <th>2022-08-03</th>\n",
       "      <td>275.987885</td>\n",
       "      <td>276.994247</td>\n",
       "      <td>270.262344</td>\n",
       "      <td>270.408926</td>\n",
       "      <td>23518900</td>\n",
       "    </tr>\n",
       "    <tr>\n",
       "      <th>2022-08-04</th>\n",
       "      <td>277.140717</td>\n",
       "      <td>277.287268</td>\n",
       "      <td>273.740596</td>\n",
       "      <td>275.333165</td>\n",
       "      <td>18098700</td>\n",
       "    </tr>\n",
       "    <tr>\n",
       "      <th>2022-08-05</th>\n",
       "      <td>276.417725</td>\n",
       "      <td>277.140733</td>\n",
       "      <td>272.284785</td>\n",
       "      <td>272.744000</td>\n",
       "      <td>16774600</td>\n",
       "    </tr>\n",
       "    <tr>\n",
       "      <th>2022-08-08</th>\n",
       "      <td>273.887146</td>\n",
       "      <td>279.358642</td>\n",
       "      <td>272.910094</td>\n",
       "      <td>277.531530</td>\n",
       "      <td>18739200</td>\n",
       "    </tr>\n",
       "    <tr>\n",
       "      <th>2022-08-09</th>\n",
       "      <td>275.821747</td>\n",
       "      <td>276.583846</td>\n",
       "      <td>271.239371</td>\n",
       "      <td>273.222815</td>\n",
       "      <td>23405200</td>\n",
       "    </tr>\n",
       "    <tr>\n",
       "      <th>...</th>\n",
       "      <td>...</td>\n",
       "      <td>...</td>\n",
       "      <td>...</td>\n",
       "      <td>...</td>\n",
       "      <td>...</td>\n",
       "    </tr>\n",
       "    <tr>\n",
       "      <th>2023-08-03</th>\n",
       "      <td>322.248871</td>\n",
       "      <td>325.425390</td>\n",
       "      <td>321.548467</td>\n",
       "      <td>321.597780</td>\n",
       "      <td>18253700</td>\n",
       "    </tr>\n",
       "    <tr>\n",
       "      <th>2023-08-04</th>\n",
       "      <td>323.353760</td>\n",
       "      <td>330.614388</td>\n",
       "      <td>322.821043</td>\n",
       "      <td>327.398401</td>\n",
       "      <td>23727700</td>\n",
       "    </tr>\n",
       "    <tr>\n",
       "      <th>2023-08-07</th>\n",
       "      <td>325.652252</td>\n",
       "      <td>326.638748</td>\n",
       "      <td>323.097231</td>\n",
       "      <td>323.935758</td>\n",
       "      <td>17741500</td>\n",
       "    </tr>\n",
       "    <tr>\n",
       "      <th>2023-08-08</th>\n",
       "      <td>321.647064</td>\n",
       "      <td>324.310616</td>\n",
       "      <td>318.638263</td>\n",
       "      <td>322.544779</td>\n",
       "      <td>22327600</td>\n",
       "    </tr>\n",
       "    <tr>\n",
       "      <th>2023-08-09</th>\n",
       "      <td>317.878693</td>\n",
       "      <td>322.692769</td>\n",
       "      <td>316.714604</td>\n",
       "      <td>322.061427</td>\n",
       "      <td>22373300</td>\n",
       "    </tr>\n",
       "  </tbody>\n",
       "</table>\n",
       "<p>256 rows × 5 columns</p>\n",
       "</div>"
      ],
      "text/plain": [
       "Price            Close        High         Low        Open    Volume\n",
       "Ticker            MSFT        MSFT        MSFT        MSFT      MSFT\n",
       "Date                                                                \n",
       "2022-08-03  275.987885  276.994247  270.262344  270.408926  23518900\n",
       "2022-08-04  277.140717  277.287268  273.740596  275.333165  18098700\n",
       "2022-08-05  276.417725  277.140733  272.284785  272.744000  16774600\n",
       "2022-08-08  273.887146  279.358642  272.910094  277.531530  18739200\n",
       "2022-08-09  275.821747  276.583846  271.239371  273.222815  23405200\n",
       "...                ...         ...         ...         ...       ...\n",
       "2023-08-03  322.248871  325.425390  321.548467  321.597780  18253700\n",
       "2023-08-04  323.353760  330.614388  322.821043  327.398401  23727700\n",
       "2023-08-07  325.652252  326.638748  323.097231  323.935758  17741500\n",
       "2023-08-08  321.647064  324.310616  318.638263  322.544779  22327600\n",
       "2023-08-09  317.878693  322.692769  316.714604  322.061427  22373300\n",
       "\n",
       "[256 rows x 5 columns]"
      ]
     },
     "execution_count": 42,
     "metadata": {},
     "output_type": "execute_result"
    }
   ],
   "source": [
    "import yfinance as yf\n",
    "microsoft = yf.download(\n",
    "    tickers = 'MSFT', \n",
    "    start='2022-08-03', \n",
    "    end='2023-08-10'\n",
    "    )\n",
    "microsoft"
   ]
  },
  {
   "cell_type": "code",
   "execution_count": 43,
   "metadata": {},
   "outputs": [
    {
     "data": {
      "text/plain": [
       "<Axes: xlabel='Date'>"
      ]
     },
     "execution_count": 43,
     "metadata": {},
     "output_type": "execute_result"
    },
    {
     "data": {
      "image/png": "[encoded data removed]",
      "text/plain": [
       "<Figure size 640x480 with 1 Axes>"
      ]
     },
     "metadata": {},
     "output_type": "display_data"
    }
   ],
   "source": [
    "microsoft['Close'].plot()"
   ]
  }
 ],
 "metadata": {
  "kernelspec": {
   "display_name": "Python 3",
   "language": "python",
   "name": "python3"
  },
  "language_info": {
   "codemirror_mode": {
    "name": "ipython",
    "version": 3
   },
   "file_extension": ".py",
   "mimetype": "text/x-python",
   "name": "python",
   "nbconvert_exporter": "python",
   "pygments_lexer": "ipython3",
   "version": "3.13.2"
  }
 },
 "nbformat": 4,
 "nbformat_minor": 2
}
